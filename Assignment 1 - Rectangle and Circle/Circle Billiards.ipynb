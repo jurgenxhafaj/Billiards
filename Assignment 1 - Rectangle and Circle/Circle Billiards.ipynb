{
 "cells": [
  {
   "cell_type": "code",
   "execution_count": null,
   "metadata": {},
   "outputs": [],
   "source": []
  },
  {
   "cell_type": "code",
   "execution_count": null,
   "metadata": {},
   "outputs": [],
   "source": [
    "# #NOTE\n",
    "\n",
    "# pygame.draw.circle(screen, self.colour, (int(self.x), int(self.y)), self.size, self.thickness)"
   ]
  },
  {
   "cell_type": "code",
   "execution_count": null,
   "metadata": {},
   "outputs": [],
   "source": []
  },
  {
   "cell_type": "code",
   "execution_count": null,
   "metadata": {},
   "outputs": [
    {
     "name": "stdout",
     "output_type": "stream",
     "text": [
      "pygame 1.9.4\n",
      "Hello from the pygame community. https://www.pygame.org/contribute.html\n"
     ]
    }
   ],
   "source": [
    "# CIRCLE BILLIARDS\n",
    "import pygame\n",
    "import numpy as np\n",
    "import math\n",
    "from pygame.locals import *\n",
    "\n",
    "# setting fps\n",
    "clock = pygame.time.Clock()\n",
    "\n",
    "# common colors\n",
    "red=(255,0,0)\n",
    "green=(0,255,0)\n",
    "blue=(0,0,255)\n",
    "white=(255,255,255)\n",
    "black=(0,0,0)\n",
    "Tarleton=(79,45,127)\n",
    "pool_table_green=(10,108,3)\n",
    "\n",
    "# collisions (start with collision = 1)\n",
    "coll=1\n",
    "max_coll=20\n",
    "\n",
    "#ball velocity vector coordinates\n",
    "speed=4\n",
    "\n",
    "#angle\n",
    "angle = 0.5*math.pi\n",
    "\n",
    "# ball position\n",
    "x=350\n",
    "y=450\n",
    "ball_radius=10\n",
    "ball_color=Tarleton\n",
    "\n",
    "# Pool Table (window) parameters\n",
    "window_width=800\n",
    "window_height=800\n",
    "pool_table_color=pool_table_green\n",
    "\n",
    "pygame.init()\n",
    "surface = pygame.display.set_mode((window_width, window_height))\n",
    "\n",
    "\n",
    "\n",
    "\n",
    "\n",
    "\n",
    "\n",
    "while True:\n",
    "    for event in pygame.event.get():\n",
    "        if event.type == pygame.QUIT:\n",
    "            pygame.quit()\n",
    "        \n",
    "        elif event.type == KEYDOWN and event.key == K_ESCAPE:\n",
    "            pygame.quit()\n",
    "        \n",
    "        elif event.type == KEYDOWN and event.key == K_SPACE:\n",
    "            pygame.image.save(surface, \"screenshot.png\")\n",
    "        \n",
    "       \n",
    "        \n",
    "        \n",
    "        \n",
    "    circle=pygame.draw.circle(surface, white, (400,400), 200)  \n",
    "    ball=pygame.draw.circle(surface, ball_color, (int(x),int(y)), ball_radius)\n",
    "\n",
    "    \n",
    "## this is to only animate while holding P pressed   \n",
    "#     if event.type == KEYDOWN and event.key == K_p:\n",
    "#         x=x+math.sin(angle)*speed\n",
    "#         y=y-math.sin(angle)*speed \n",
    "        \n",
    "        \n",
    "        \n",
    "#     x=x+math.sin(angle)*speed\n",
    "#     y=y-math.sin(angle)*speed\n",
    "\n",
    "\n",
    "    dx=x-400\n",
    "    dy=y-400\n",
    "    \n",
    "    #this quits the animation when it reaches the boundary\n",
    "\n",
    "  \n",
    "    if dx**2 + dy**2 >= 200**2:\n",
    "        angle = angle + 0.5*math.pi\n",
    "        #pygame.quit()\n",
    "\n",
    "\n",
    "    x=x+math.sin(angle)*speed\n",
    "    y=y-math.sin(angle)*speed\n",
    "       \n",
    "        \n",
    "    clock.tick(30)\n",
    "    \n",
    "#     if x>800 or x<0:\n",
    "#         pygame.quit()\n",
    "        \n",
    "#     if y>800 or y<0:\n",
    "#         pygame.quit()\n",
    "        \n",
    "    \n",
    "    pygame.display.update()"
   ]
  },
  {
   "cell_type": "code",
   "execution_count": null,
   "metadata": {},
   "outputs": [],
   "source": []
  },
  {
   "cell_type": "code",
   "execution_count": null,
   "metadata": {},
   "outputs": [],
   "source": []
  },
  {
   "cell_type": "code",
   "execution_count": null,
   "metadata": {},
   "outputs": [],
   "source": []
  },
  {
   "cell_type": "code",
   "execution_count": null,
   "metadata": {},
   "outputs": [],
   "source": []
  },
  {
   "cell_type": "code",
   "execution_count": null,
   "metadata": {},
   "outputs": [],
   "source": []
  }
 ],
 "metadata": {
  "kernelspec": {
   "display_name": "Python 3",
   "language": "python",
   "name": "python3"
  },
  "language_info": {
   "codemirror_mode": {
    "name": "ipython",
    "version": 3
   },
   "file_extension": ".py",
   "mimetype": "text/x-python",
   "name": "python",
   "nbconvert_exporter": "python",
   "pygments_lexer": "ipython3",
   "version": "3.7.1"
  }
 },
 "nbformat": 4,
 "nbformat_minor": 2
}
