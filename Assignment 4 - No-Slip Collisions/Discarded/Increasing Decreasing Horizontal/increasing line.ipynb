{
 "cells": [
  {
   "cell_type": "code",
   "execution_count": null,
   "metadata": {},
   "outputs": [],
   "source": []
  },
  {
   "cell_type": "code",
   "execution_count": 4,
   "metadata": {},
   "outputs": [
    {
     "data": {
      "image/png": "[encoded data removed]",
      "text/plain": [
       "<Figure size 576x432 with 1 Axes>"
      ]
     },
     "metadata": {
      "needs_background": "light"
     },
     "output_type": "display_data"
    },
    {
     "name": "stdout",
     "output_type": "stream",
     "text": [
      "Incoming vector is: [0.1, 0.9899494936611666, -0.1]\n",
      "\n",
      "\n",
      "Outgoing vector is: [-0.79448326 -0.13938469  0.59107382]\n"
     ]
    }
   ],
   "source": [
    "import numpy as np\n",
    "import math\n",
    "import matplotlib.pyplot as plt\n",
    "import matplotlib.patches as patches\n",
    "%matplotlib inline\n",
    "\n",
    "y_vel=-0.1\n",
    "spin0=0.1\n",
    "x_vel=(1-y_vel**2-spin**2)**0.5\n",
    "total=(x_vel**2+y_vel**2+spin**2)**0.5\n",
    "v=[spin/total,x_vel/total,y_vel/total]\n",
    "\n",
    "g=1/(2**0.5)\n",
    "# g=0\n",
    "theta=math.pi/6\n",
    "T_spec=np.array([[-1,0,0], [0,1,0], [0,0,-1]])\n",
    "T_ns=np.array([[(g**2-1)/(1+g**2),(-2*g)/(1+g**2),0], [(-2*g)/(1+g**2),(1-g**2)/(1+g**2),0], [0,0,-1]])\n",
    "R1=np.array([[1,0,0],[0,math.cos(theta),-math.sin(theta)],[0,math.sin(theta),math.cos(theta)]])\n",
    "R2=np.array([[1,0,0],[0,math.cos(theta),math.sin(theta)],[0,-math.sin(theta),math.cos(theta)]])\n",
    "vplus=(R1@T_ns@R2@v)\n",
    "spin=vplus[0]\n",
    "x_vel=vplus[1]\n",
    "y_vel=vplus[2]\n",
    "\n",
    "\n",
    "plt.quiver(v[1],v[2], angles='xy', scale_units='xy', scale=1)\n",
    "plt.quiver(v[1],v[2],vplus[1],vplus[2], angles='xy', scale_units='xy', scale=1)\n",
    "plt.quiver(0,v[2]-0.59, 3**0.5,1, angles='xy', scale_units='xy', scale=1, color='red')\n",
    "plt.annotate('Spin : ' + str(spin0), (0, 0.5), fontsize=20, position=(0.2, 0.5))\n",
    "plt.xlim(0, 2)\n",
    "plt.ylim(-1, 1)\n",
    "plt.gca().set_aspect('equal', adjustable='box')\n",
    "fig = plt.gcf()\n",
    "fig.set_size_inches(8, 6)\n",
    "fig.savefig('increasing.png', dpi=100)\n",
    "plt.show()\n",
    "print(\"Incoming vector is: \" + str(v))\n",
    "print(\"\\n\")\n",
    "print(\"Outgoing vector is: \" + str(vplus))"
   ]
  },
  {
   "cell_type": "code",
   "execution_count": null,
   "metadata": {},
   "outputs": [],
   "source": []
  },
  {
   "cell_type": "code",
   "execution_count": null,
   "metadata": {},
   "outputs": [],
   "source": []
  },
  {
   "cell_type": "code",
   "execution_count": null,
   "metadata": {},
   "outputs": [],
   "source": []
  }
 ],
 "metadata": {
  "kernelspec": {
   "display_name": "Python 3",
   "language": "python",
   "name": "python3"
  },
  "language_info": {
   "codemirror_mode": {
    "name": "ipython",
    "version": 3
   },
   "file_extension": ".py",
   "mimetype": "text/x-python",
   "name": "python",
   "nbconvert_exporter": "python",
   "pygments_lexer": "ipython3",
   "version": "3.7.1"
  }
 },
 "nbformat": 4,
 "nbformat_minor": 2
}
