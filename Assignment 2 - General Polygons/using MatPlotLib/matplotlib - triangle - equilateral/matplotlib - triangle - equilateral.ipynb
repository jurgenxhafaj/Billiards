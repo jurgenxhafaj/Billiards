{
 "cells": [
  {
   "cell_type": "code",
   "execution_count": null,
   "metadata": {},
   "outputs": [],
   "source": []
  },
  {
   "cell_type": "code",
   "execution_count": 16,
   "metadata": {},
   "outputs": [],
   "source": [
    "import numpy as np\n",
    "import matplotlib.pyplot as plt\n",
    "import matplotlib.patches as patches\n",
    "%matplotlib inline\n",
    "\n",
    "\n",
    "\n",
    "def point_to_line_dist(point, line):\n",
    "    \"\"\"Calculate the distance between a point and a line segment.\n",
    "\n",
    "    To calculate the closest distance to a line segment, we first need to check\n",
    "    if the point projects onto the line segment.  If it does, then we calculate\n",
    "    the orthogonal distance from the point to the line.\n",
    "    If the point does not project to the line segment, we calculate the \n",
    "    distance to both endpoints and take the shortest distance.\n",
    "\n",
    "    :param point: Numpy array of form [x,y], describing the point.\n",
    "    :type point: numpy.core.multiarray.ndarray\n",
    "    :param line: list of endpoint arrays of form [P1, P2]\n",
    "    :type line: list of numpy.core.multiarray.ndarray\n",
    "    :return: The minimum distance to a point.\n",
    "    :rtype: float\n",
    "    \"\"\"\n",
    "    # unit vector\n",
    "    unit_line = np.array(line[1]) - np.array(line[0])\n",
    "    norm_unit_line = unit_line / np.linalg.norm(unit_line)\n",
    "\n",
    "    # compute the perpendicular distance to the theoretical infinite line\n",
    "    segment_dist = (\n",
    "        np.linalg.norm(np.cross(np.array(line[1]) - np.array(line[0]), np.array(line[0]) - np.array(point))) /\n",
    "        np.linalg.norm(unit_line)\n",
    "    )\n",
    "\n",
    "    diff = (\n",
    "        (norm_unit_line[0] * (point[0] - line[0][0])) + \n",
    "        (norm_unit_line[1] * (point[1] - line[0][1]))\n",
    "    )\n",
    "\n",
    "    x_seg = (norm_unit_line[0] * diff) + line[0][0]\n",
    "    y_seg = (norm_unit_line[1] * diff) + line[0][1]\n",
    "\n",
    "    endpoint_dist = min(\n",
    "        np.linalg.norm(np.array(line[0]) - np.array(point)),\n",
    "        np.linalg.norm(np.array(line[1]) - np.array(point))\n",
    "    )\n",
    "\n",
    "    # decide if the intersection point falls on the line segment\n",
    "    lp1_x = line[0][0]  # line point 1 x\n",
    "    lp1_y = line[0][1]  # line point 1 y\n",
    "    lp2_x = line[1][0]  # line point 2 x\n",
    "    lp2_y = line[1][1]  # line point 2 y\n",
    "    is_betw_x = lp1_x <= x_seg <= lp2_x or lp2_x <= x_seg <= lp1_x\n",
    "    is_betw_y = lp1_y <= y_seg <= lp2_y or lp2_y <= y_seg <= lp1_y\n",
    "    if is_betw_x and is_betw_y:\n",
    "        return segment_dist\n",
    "    else:\n",
    "        # if not, then return the minimum distance to the segment endpoints\n",
    "        return endpoint_dist\n",
    "\n"
   ]
  },
  {
   "cell_type": "code",
   "execution_count": 35,
   "metadata": {
    "scrolled": false
   },
   "outputs": [
    {
     "data": {
      "image/png": "[encoded data removed]",
      "text/plain": [
       "<Figure size 576x576 with 1 Axes>"
      ]
     },
     "metadata": {
      "needs_background": "light"
     },
     "output_type": "display_data"
    },
    {
     "name": "stdout",
     "output_type": "stream",
     "text": [
      "Wall time: 48.5 s\n"
     ]
    }
   ],
   "source": [
    "%%time\n",
    "width = 8\n",
    "height = 8\n",
    "\n",
    "x_min=0\n",
    "x_max=8\n",
    "y_min=0\n",
    "y_max=8\n",
    "\n",
    "\n",
    "x=4\n",
    "y=3\n",
    "\n",
    "# coll=1\n",
    "\n",
    "fig1 = plt.figure()\n",
    "ax1 = fig1.add_subplot(111, aspect='equal')\n",
    "\n",
    "\n",
    "ax1.annotate('A', (1, 1), fontsize=20, position=(0.7,0.8))\n",
    "ax1.annotate('B', (7, 1), fontsize=20, position=(7,0.8))\n",
    "ax1.annotate('C', (4, 1+3*(3**0.5)), fontsize=20, position=(3.8,6.3))\n",
    "\n",
    "\n",
    "A=[1,1]\n",
    "B=[7,1]\n",
    "C=[4,1+3*(3**0.5)]\n",
    "\n",
    "\n",
    "AB=[A,B]\n",
    "BC=[B,C]\n",
    "CA=[C,A]\n",
    "\n",
    "\n",
    "X = np.array([A,B,C])\n",
    "    \n",
    "t1 = plt.Polygon(X[:3,:], edgecolor='blue', facecolor='white')\n",
    "plt.gca().add_patch(t1)\n",
    "  \n",
    "    \n",
    "ax1.add_patch(\n",
    "    patches.Circle((x,y), radius=0.1, facecolor='green'))\n",
    "\n",
    "\n",
    "#these below are vectors for each side, so l_a is the vector facing point A\n",
    "lineAB=[B[0]-A[0],B[1]-A[1]]\n",
    "lineBC=[C[0]-B[0],C[1]-B[1]]\n",
    "lineCA=[A[0]-C[0],A[1]-C[1]]\n",
    "\n",
    "\n",
    "x_vel=0.01\n",
    "y_vel=0.01*(3**0.5)\n",
    "\n",
    "v=[x_vel,y_vel]\n",
    "#these below are vectors for each side, so l_a is the vector facing point A\n",
    "\n",
    "#if we define dx=x2-x1 and dy=y2-y1, normals are (-dy, dx) and (dy, -dx).\n",
    "normalAB=[-lineAB[1],lineAB[0]]\n",
    "normalBC=[-lineBC[1],lineBC[0]]\n",
    "normalCA=[-lineCA[1],lineCA[0]]\n",
    "\n",
    "\n",
    "blits=20000\n",
    "dispersion=0.02\n",
    "\n",
    "ax1.annotate('Blits : ' + str(blits), (0, 7), fontsize=20, position=(0.5, 7))\n",
    "\n",
    "\n",
    "for i in range(0,blits):\n",
    "\n",
    "    if point_to_line_dist([x,y], AB)<dispersion :\n",
    "        reflection=v - np.dot((2*((np.vdot(v,normalAB))/(np.vdot(normalAB,normalAB)))),normalAB)\n",
    "        x_vel=reflection[0]\n",
    "        y_vel=reflection[1]   \n",
    "        v=[x_vel,y_vel] \n",
    "    elif point_to_line_dist([x,y], BC)<dispersion :\n",
    "        reflection=v - np.dot((2*((np.vdot(v,normalBC))/(np.vdot(normalBC,normalBC)))),normalBC)\n",
    "        x_vel=reflection[0]\n",
    "        y_vel=reflection[1]   \n",
    "        v=[x_vel,y_vel] \n",
    "    elif point_to_line_dist([x,y], CA)<dispersion :\n",
    "        reflection=v - np.dot((2*((np.vdot(v,normalCA))/(np.vdot(normalCA,normalCA)))),normalCA) \n",
    "        x_vel=reflection[0]\n",
    "        y_vel=reflection[1]       \n",
    "        v=[x_vel,y_vel]  \n",
    "\n",
    "    else:\n",
    "        x_vel=x_vel\n",
    "        y_vel=y_vel\n",
    "        v=[x_vel,y_vel]\n",
    "       \n",
    "    x=x+x_vel\n",
    "    y=y+y_vel\n",
    "    ax1.add_patch(\n",
    "    patches.Circle((x,y), radius=0.01, facecolor='red'))\n",
    "            \n",
    "plt.ylim(y_min, y_max)\n",
    "plt.xlim(x_min, x_max)\n",
    "\n",
    "fig = plt.gcf()\n",
    "fig.set_size_inches(8, 8)\n",
    "fig.savefig('equilateral triangle60.png', dpi=100)\n",
    "plt.show()\n",
    "\n",
    "import winsound\n",
    "duration = 200  # millisecond\n",
    "freq = 440 # Hz\n",
    "winsound.Beep(freq, duration)\n"
   ]
  },
  {
   "cell_type": "code",
   "execution_count": null,
   "metadata": {},
   "outputs": [],
   "source": []
  },
  {
   "cell_type": "code",
   "execution_count": null,
   "metadata": {},
   "outputs": [],
   "source": []
  },
  {
   "cell_type": "code",
   "execution_count": null,
   "metadata": {},
   "outputs": [],
   "source": []
  },
  {
   "cell_type": "code",
   "execution_count": 48,
   "metadata": {},
   "outputs": [
    {
     "data": {
      "text/plain": [
       "array([-1.52, -1.64])"
      ]
     },
     "execution_count": 48,
     "metadata": {},
     "output_type": "execute_result"
    }
   ],
   "source": [
    "#calculating the reflection vector\n",
    "x_vel=2\n",
    "y_vel=1\n",
    "\n",
    "v=[x_vel,y_vel]\n",
    "#these below are vectors for each side, so l_a is the vector facing point A\n",
    "l_a=[-4,-3]\n",
    "l_b=[4,-3]\n",
    "l_c=[0,6]\n",
    "\n",
    "side=l_a\n",
    "\n",
    "reflection=v - np.dot((2*((np.vdot(v,side))/(np.vdot(side,side)))),side)\n",
    "\n",
    "reflection"
   ]
  },
  {
   "cell_type": "code",
   "execution_count": 49,
   "metadata": {},
   "outputs": [
    {
     "name": "stdout",
     "output_type": "stream",
     "text": [
      "-1.52\n",
      "-1.6400000000000001\n"
     ]
    }
   ],
   "source": [
    "print(reflection[0])\n",
    "print(reflection[1])"
   ]
  },
  {
   "cell_type": "code",
   "execution_count": 51,
   "metadata": {},
   "outputs": [
    {
     "data": {
      "image/png": "[encoded data removed]",
      "text/plain": [
       "<Figure size 432x288 with 1 Axes>"
      ]
     },
     "metadata": {
      "needs_background": "light"
     },
     "output_type": "display_data"
    }
   ],
   "source": [
    "#visually verifying the reflection vector from above\n",
    "plt.quiver(-1.52,-1.64, angles='xy', scale_units='xy', scale=1)\n",
    "plt.quiver(-2,-1, angles='xy', scale_units='xy', scale=1)\n",
    "plt.quiver(-1.5, 2, 3,-4, angles='xy', scale_units='xy', scale=1)\n",
    "plt.xlim(-4, 4)\n",
    "plt.ylim(-4, 4)\n",
    "plt.gca().set_aspect('equal', adjustable='box')\n",
    "plt.show()"
   ]
  },
  {
   "cell_type": "code",
   "execution_count": null,
   "metadata": {},
   "outputs": [],
   "source": []
  },
  {
   "cell_type": "code",
   "execution_count": null,
   "metadata": {},
   "outputs": [],
   "source": []
  },
  {
   "cell_type": "code",
   "execution_count": null,
   "metadata": {},
   "outputs": [],
   "source": []
  }
 ],
 "metadata": {
  "kernelspec": {
   "display_name": "Python 3",
   "language": "python",
   "name": "python3"
  },
  "language_info": {
   "codemirror_mode": {
    "name": "ipython",
    "version": 3
   },
   "file_extension": ".py",
   "mimetype": "text/x-python",
   "name": "python",
   "nbconvert_exporter": "python",
   "pygments_lexer": "ipython3",
   "version": "3.7.1"
  }
 },
 "nbformat": 4,
 "nbformat_minor": 2
}
