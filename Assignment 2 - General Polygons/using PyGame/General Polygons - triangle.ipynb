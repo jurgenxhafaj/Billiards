{
 "cells": [
  {
   "cell_type": "code",
   "execution_count": null,
   "metadata": {},
   "outputs": [],
   "source": []
  },
  {
   "cell_type": "code",
   "execution_count": null,
   "metadata": {},
   "outputs": [],
   "source": []
  },
  {
   "cell_type": "code",
   "execution_count": null,
   "metadata": {},
   "outputs": [],
   "source": [
    "# formula for angle in - angle out calculation for polygons\n",
    "# \\ a\n",
    "# / b\n",
    "# _ c\n",
    "# v=[x_vel, y_vel]\n",
    "# l_a=[450-800 , 100-500]"
   ]
  },
  {
   "cell_type": "code",
   "execution_count": null,
   "metadata": {},
   "outputs": [],
   "source": []
  },
  {
   "cell_type": "code",
   "execution_count": null,
   "metadata": {},
   "outputs": [],
   "source": []
  },
  {
   "cell_type": "code",
   "execution_count": null,
   "metadata": {},
   "outputs": [
    {
     "name": "stdout",
     "output_type": "stream",
     "text": [
      "pygame 1.9.4\n",
      "Hello from the pygame community. https://www.pygame.org/contribute.html\n"
     ]
    }
   ],
   "source": [
    "# DISTANCE FUNCTION\n",
    "\n",
    "import numpy as np\n",
    "import matplotlib.pyplot as plt\n",
    "\n",
    "\n",
    "def point_to_line_dist(point, line):\n",
    "    \"\"\"Calculate the distance between a point and a line segment.\n",
    "\n",
    "    To calculate the closest distance to a line segment, we first need to check\n",
    "    if the point projects onto the line segment.  If it does, then we calculate\n",
    "    the orthogonal distance from the point to the line.\n",
    "    If the point does not project to the line segment, we calculate the \n",
    "    distance to both endpoints and take the shortest distance.\n",
    "\n",
    "    :param point: Numpy array of form [x,y], describing the point.\n",
    "    :type point: numpy.core.multiarray.ndarray\n",
    "    :param line: list of endpoint arrays of form [P1, P2]\n",
    "    :type line: list of numpy.core.multiarray.ndarray\n",
    "    :return: The minimum distance to a point.\n",
    "    :rtype: float\n",
    "    \"\"\"\n",
    "    # unit vector\n",
    "    unit_line = np.array(line[1]) - np.array(line[0])\n",
    "    norm_unit_line = unit_line / np.linalg.norm(unit_line)\n",
    "\n",
    "    # compute the perpendicular distance to the theoretical infinite line\n",
    "    segment_dist = (\n",
    "        np.linalg.norm(np.cross(np.array(line[1]) - np.array(line[0]), np.array(line[0]) - np.array(point))) /\n",
    "        np.linalg.norm(unit_line)\n",
    "    )\n",
    "\n",
    "    diff = (\n",
    "        (norm_unit_line[0] * (point[0] - line[0][0])) + \n",
    "        (norm_unit_line[1] * (point[1] - line[0][1]))\n",
    "    )\n",
    "\n",
    "    x_seg = (norm_unit_line[0] * diff) + line[0][0]\n",
    "    y_seg = (norm_unit_line[1] * diff) + line[0][1]\n",
    "\n",
    "    endpoint_dist = min(\n",
    "        np.linalg.norm(np.array(line[0]) - np.array(point)),\n",
    "        np.linalg.norm(np.array(line[1]) - np.array(point))\n",
    "    )\n",
    "\n",
    "    # decide if the intersection point falls on the line segment\n",
    "    lp1_x = line[0][0]  # line point 1 x\n",
    "    lp1_y = line[0][1]  # line point 1 y\n",
    "    lp2_x = line[1][0]  # line point 2 x\n",
    "    lp2_y = line[1][1]  # line point 2 y\n",
    "    is_betw_x = lp1_x <= x_seg <= lp2_x or lp2_x <= x_seg <= lp1_x\n",
    "    is_betw_y = lp1_y <= y_seg <= lp2_y or lp2_y <= y_seg <= lp1_y\n",
    "    if is_betw_x and is_betw_y:\n",
    "        return segment_dist\n",
    "    else:\n",
    "        # if not, then return the minimum distance to the segment endpoints\n",
    "        return endpoint_dist\n",
    "\n",
    "\n",
    "\n",
    "# SIMULATION CODE (WITH TRACES)\n",
    "import pygame\n",
    "import numpy as np\n",
    "\n",
    "# common colors\n",
    "red=(255,0,0)\n",
    "green=(0,255,0)\n",
    "blue=(0,0,255)\n",
    "white=(255,255,255)\n",
    "black=(0,0,0)\n",
    "Tarleton=(79,45,127)\n",
    "pool_table_green=(10,108,3)\n",
    "# collisions (start with collision = 1)\n",
    "coll=1\n",
    "max_coll=20\n",
    "roundtrips=0\n",
    "#ball velocity vector coordinates\n",
    "x_vel=4\n",
    "y_vel=-1\n",
    "# ball position\n",
    "x=500\n",
    "y=400\n",
    "ball_radius=2\n",
    "ball_color=green\n",
    "# Pool Table (window) parameters\n",
    "window_width=900\n",
    "window_height=600\n",
    "pool_table_color=pool_table_green\n",
    "#MATRIX\n",
    "matrix=[coll, x,y, x_vel, y_vel]\n",
    "pygame.init()\n",
    "surface = pygame.display.set_mode((window_width, window_height))\n",
    "\n",
    "\n",
    "pygame.draw.polygon (surface, white, [(800, 500), (450, 100), (100, 500)])\n",
    "\n",
    "v=[[x_vel,y_vel]]\n",
    "l_a=[[-350,-400]]\n",
    "l_b=[[-350,400]]\n",
    "l_c=[[-700,0]]\n",
    "\n",
    "while True:\n",
    "    for event in pygame.event.get():\n",
    "        if event.type == pygame.QUIT:\n",
    "            pygame.quit() \n",
    "    ball=pygame.draw.circle(surface, ball_color, (x,y), ball_radius)  \n",
    "      \n",
    "# l_a        \n",
    "    if point_to_line_dist([x,y], [[450,100],[800,500]])<2 :\n",
    "        reflection=np.dot((2*((np.vdot(v,l_a))/(np.vdot(l_a,l_a)))),l_a) - v\n",
    "\n",
    "        x_vel=int(reflection[0][0])\n",
    "        y_vel=int(reflection[-1][-1])\n",
    "           \n",
    "#l_b        \n",
    "    elif point_to_line_dist([x,y], [[100,500],[800,500]])<2 :\n",
    "        reflection=np.dot((2*((np.vdot(v,l_b))/(np.vdot(l_b,l_b)))),l_b) - v\n",
    "\n",
    "        x_vel=int(reflection[0][0])\n",
    "        y_vel=int(reflection[-1][-1]) \n",
    "            \n",
    "        \n",
    "#l_c        \n",
    "    elif point_to_line_dist([x,y], [[450,100],[100,500]])<2 :\n",
    "        reflection=np.dot((2*((np.vdot(v,l_c))/(np.vdot(l_c,l_c)))),l_c) - v\n",
    "\n",
    "        x_vel=int(reflection[0][0])\n",
    "        y_vel=int(reflection[-1][-1])  \n",
    "##this is to quit the animation once it reaches the collisions cap    \n",
    "#     if coll==max_coll+1:\n",
    "#         pygame.quit()  \n",
    "    #this is to quit the animation once it reaches the same initial point\n",
    "    #also prints the number of collisions needed to reach the initial spot\n",
    "    \n",
    "    \n",
    "#     if x==170 and y==380 and coll>2:\n",
    "#         print(coll)\n",
    "#         roundtrips=roundtrips+1\n",
    "        \n",
    "        \n",
    "#     if roundtrips==40:\n",
    "#         pygame.quit()   \n",
    "\n",
    "    x=x+x_vel\n",
    "    y=y+y_vel  \n",
    "    pygame.display.update()"
   ]
  },
  {
   "cell_type": "code",
   "execution_count": null,
   "metadata": {},
   "outputs": [],
   "source": []
  },
  {
   "cell_type": "code",
   "execution_count": 3,
   "metadata": {},
   "outputs": [
    {
     "data": {
      "text/plain": [
       "11"
      ]
     },
     "execution_count": 3,
     "metadata": {},
     "output_type": "execute_result"
    }
   ],
   "source": [
    "import numpy as np\n",
    "np.dot([1,2],[3,4])"
   ]
  },
  {
   "cell_type": "code",
   "execution_count": 5,
   "metadata": {},
   "outputs": [
    {
     "name": "stdout",
     "output_type": "stream",
     "text": [
      "-1.1238938053097345\n",
      "0.8584070796460177\n"
     ]
    }
   ],
   "source": [
    "# Reflection mechanism\n",
    "import numpy as np\n",
    "\n",
    "# v=[[0,0],[3,1]]\n",
    "# l_a=[[0,0],[2,2]]\n",
    "x_vel=1\n",
    "y_vel=-1\n",
    "\n",
    "\n",
    "v=[[x_vel,y_vel]]\n",
    "l_a=[[-350,-400]]\n",
    "\n",
    "\n",
    "reflection=np.dot((2*((np.vdot(v,l_a))/(np.vdot(l_a,l_a)))),l_a) - v\n",
    "\n",
    "x_vel=reflection[0][0]\n",
    "y_vel=reflection[-1][-1]\n",
    "print(x_vel)\n",
    "print(y_vel)"
   ]
  },
  {
   "cell_type": "code",
   "execution_count": 14,
   "metadata": {},
   "outputs": [
    {
     "data": {
      "text/plain": [
       "8"
      ]
     },
     "execution_count": 14,
     "metadata": {},
     "output_type": "execute_result"
    }
   ],
   "source": [
    "v=[[0,0],[3,1]]\n",
    "l_a=[[0,0],[2,2]]\n",
    "np.vdot(v,l_a)"
   ]
  },
  {
   "cell_type": "code",
   "execution_count": null,
   "metadata": {},
   "outputs": [],
   "source": []
  },
  {
   "cell_type": "code",
   "execution_count": 1,
   "metadata": {},
   "outputs": [],
   "source": [
    "# DISTANCE FUNCTION\n",
    "\n",
    "import numpy as np\n",
    "\n",
    "def point_to_line_dist(point, line):\n",
    "    \"\"\"Calculate the distance between a point and a line segment.\n",
    "\n",
    "    To calculate the closest distance to a line segment, we first need to check\n",
    "    if the point projects onto the line segment.  If it does, then we calculate\n",
    "    the orthogonal distance from the point to the line.\n",
    "    If the point does not project to the line segment, we calculate the \n",
    "    distance to both endpoints and take the shortest distance.\n",
    "\n",
    "    :param point: Numpy array of form [x,y], describing the point.\n",
    "    :type point: numpy.core.multiarray.ndarray\n",
    "    :param line: list of endpoint arrays of form [P1, P2]\n",
    "    :type line: list of numpy.core.multiarray.ndarray\n",
    "    :return: The minimum distance to a point.\n",
    "    :rtype: float\n",
    "    \"\"\"\n",
    "    # unit vector\n",
    "    unit_line = np.array(line[1]) - np.array(line[0])\n",
    "    norm_unit_line = unit_line / np.linalg.norm(unit_line)\n",
    "\n",
    "    # compute the perpendicular distance to the theoretical infinite line\n",
    "    segment_dist = (\n",
    "        np.linalg.norm(np.cross(np.array(line[1]) - np.array(line[0]), np.array(line[0]) - np.array(point))) /\n",
    "        np.linalg.norm(unit_line)\n",
    "    )\n",
    "\n",
    "    diff = (\n",
    "        (norm_unit_line[0] * (point[0] - line[0][0])) + \n",
    "        (norm_unit_line[1] * (point[1] - line[0][1]))\n",
    "    )\n",
    "\n",
    "    x_seg = (norm_unit_line[0] * diff) + line[0][0]\n",
    "    y_seg = (norm_unit_line[1] * diff) + line[0][1]\n",
    "\n",
    "    endpoint_dist = min(\n",
    "        np.linalg.norm(np.array(line[0]) - np.array(point)),\n",
    "        np.linalg.norm(np.array(line[1]) - np.array(point))\n",
    "    )\n",
    "\n",
    "    # decide if the intersection point falls on the line segment\n",
    "    lp1_x = line[0][0]  # line point 1 x\n",
    "    lp1_y = line[0][1]  # line point 1 y\n",
    "    lp2_x = line[1][0]  # line point 2 x\n",
    "    lp2_y = line[1][1]  # line point 2 y\n",
    "    is_betw_x = lp1_x <= x_seg <= lp2_x or lp2_x <= x_seg <= lp1_x\n",
    "    is_betw_y = lp1_y <= y_seg <= lp2_y or lp2_y <= y_seg <= lp1_y\n",
    "    if is_betw_x and is_betw_y:\n",
    "        return segment_dist\n",
    "    else:\n",
    "        # if not, then return the minimum distance to the segment endpoints\n",
    "        return endpoint_dist"
   ]
  },
  {
   "cell_type": "code",
   "execution_count": 2,
   "metadata": {},
   "outputs": [
    {
     "data": {
      "text/plain": [
       "301.03067788275115"
      ]
     },
     "execution_count": 2,
     "metadata": {},
     "output_type": "execute_result"
    }
   ],
   "source": [
    "point_to_line_dist([400,500], [[450,100],[800,500]])"
   ]
  },
  {
   "cell_type": "code",
   "execution_count": null,
   "metadata": {},
   "outputs": [],
   "source": []
  },
  {
   "cell_type": "code",
   "execution_count": 8,
   "metadata": {},
   "outputs": [],
   "source": []
  },
  {
   "cell_type": "code",
   "execution_count": 11,
   "metadata": {},
   "outputs": [
    {
     "name": "stdout",
     "output_type": "stream",
     "text": [
      "[500, 900] [500, 100]\n"
     ]
    }
   ],
   "source": [
    "line=[[500,100],[500,900]]\n",
    "print(line[1] , line[0])"
   ]
  },
  {
   "cell_type": "code",
   "execution_count": 24,
   "metadata": {},
   "outputs": [
    {
     "data": {
      "text/plain": [
       "array([2, 5])"
      ]
     },
     "execution_count": 24,
     "metadata": {},
     "output_type": "execute_result"
    }
   ],
   "source": [
    "import numpy as np\n",
    "np.array([3, 7]) - np.array([1, 2])"
   ]
  },
  {
   "cell_type": "code",
   "execution_count": null,
   "metadata": {},
   "outputs": [],
   "source": []
  },
  {
   "cell_type": "code",
   "execution_count": null,
   "metadata": {},
   "outputs": [],
   "source": []
  },
  {
   "cell_type": "code",
   "execution_count": null,
   "metadata": {},
   "outputs": [],
   "source": []
  },
  {
   "cell_type": "code",
   "execution_count": 7,
   "metadata": {},
   "outputs": [
    {
     "data": {
      "text/plain": [
       "23.718449370355533"
      ]
     },
     "execution_count": 7,
     "metadata": {},
     "output_type": "execute_result"
    }
   ],
   "source": [
    "point_to_line_dist([100,100], [[200,0],[100,141]])"
   ]
  },
  {
   "cell_type": "code",
   "execution_count": null,
   "metadata": {},
   "outputs": [],
   "source": []
  }
 ],
 "metadata": {
  "kernelspec": {
   "display_name": "Python 3",
   "language": "python",
   "name": "python3"
  },
  "language_info": {
   "codemirror_mode": {
    "name": "ipython",
    "version": 3
   },
   "file_extension": ".py",
   "mimetype": "text/x-python",
   "name": "python",
   "nbconvert_exporter": "python",
   "pygments_lexer": "ipython3",
   "version": "3.7.1"
  }
 },
 "nbformat": 4,
 "nbformat_minor": 2
}
